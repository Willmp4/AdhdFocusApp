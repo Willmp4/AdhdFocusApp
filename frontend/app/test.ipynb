{
 "cells": [
  {
   "cell_type": "code",
   "execution_count": 1,
   "metadata": {},
   "outputs": [],
   "source": [
    "from focus_predictor import FocusPredictor \n",
    "focus_predictor = FocusPredictor(\"./models/model1.h5\", \"models/encoder1.pkl\", \"models/scaler1.pkl\")\n"
   ]
  },
  {
   "cell_type": "code",
   "execution_count": 5,
   "metadata": {},
   "outputs": [
    {
     "name": "stdout",
     "output_type": "stream",
     "text": [
      "Loading data from ./final.json\n",
      "Predicted Focus Level: nan\n"
     ]
    }
   ],
   "source": [
    "focus_predictor.print_results(focus_predictor.predict_focus(\"./final.json\"))"
   ]
  }
 ],
 "metadata": {
  "kernelspec": {
   "display_name": "frontend-app",
   "language": "python",
   "name": "python3"
  },
  "language_info": {
   "codemirror_mode": {
    "name": "ipython",
    "version": 3
   },
   "file_extension": ".py",
   "mimetype": "text/x-python",
   "name": "python",
   "nbconvert_exporter": "python",
   "pygments_lexer": "ipython3",
   "version": "3.9.19"
  }
 },
 "nbformat": 4,
 "nbformat_minor": 2
}
